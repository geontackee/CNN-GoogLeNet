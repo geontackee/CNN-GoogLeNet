{
 "cells": [
  {
   "cell_type": "markdown",
   "metadata": {},
   "source": [
    "# Introduction\n",
    "Image classification is the process of taking an input (like a picture) and outputting a class (like “cat”) or a probability that the input is a particular class (“there’s a 90% probability that this input is a cat”). You can look at a picture and know that you’re looking at a terrible shot of your own face, but how can a computer learn to do that? With a convolutional neural network!"
   ]
  },
  {
   "cell_type": "markdown",
   "metadata": {},
   "source": [
    "-----\n",
    "# Goals\n",
    "We would like you to establish a neural network involving advanced DNN modules (i.e. convolution layers, RELU, pooling and fully connection layers and etc.) to distinguish the specific category of an input image."
   ]
  },
  {
   "cell_type": "markdown",
   "metadata": {},
   "source": [
    "-------------\n",
    "## Packages\n",
    "Let's first import the necessary packages,"
   ]
  },
  {
   "cell_type": "code",
   "execution_count": 1,
   "metadata": {},
   "outputs": [],
   "source": [
    "from __future__ import division\n",
    "\n",
    "import warnings\n",
    "from collections import namedtuple\n",
    "import torch\n",
    "import torch.nn as nn\n",
    "from torch.jit.annotations import Optional, Tuple\n",
    "from torch import Tensor\n",
    "import os\n",
    "import numpy as np\n",
    "import os.path\n",
    "from glob import glob\n",
    "from PIL import Image\n",
    "from tqdm import tqdm\n",
    "import torchvision.datasets as dset\n",
    "import torch.utils.data as data\n",
    "from ipywidgets import IntProgress\n",
    "from torchvision import transforms"
   ]
  },
  {
   "cell_type": "markdown",
   "metadata": {},
   "source": [
    "-----\n",
    "## GPU Device Configuration\n",
    "Use the torch.device() and torch.cuda.is_available() functions to make sure you can use the GPU"
   ]
  },
  {
   "cell_type": "code",
   "execution_count": 2,
   "metadata": {},
   "outputs": [
    {
     "name": "stdout",
     "output_type": "stream",
     "text": [
      "cuda\n"
     ]
    }
   ],
   "source": [
    "if torch.cuda.is_available():\n",
    "    device = torch.device('cuda')\n",
    "else: \n",
    "    device = 'cpu'\n",
    "\n",
    "print(device) #Check what device I am using"
   ]
  },
  {
   "cell_type": "markdown",
   "metadata": {},
   "source": [
    "-----\n",
    "## Configuration\n",
    "### hyperparameters\n",
    "We then set up the hyper parameters.\n",
    "we need to define several hyper parameters for our model:\n",
    "1. learning rate\n",
    "2. batch size when training\n",
    "3. batch size when testing\n",
    "4. number of epochs"
   ]
  },
  {
   "cell_type": "code",
   "execution_count": 3,
   "metadata": {},
   "outputs": [],
   "source": [
    "#1. Learning Rate\n",
    "learning_rate = 0.01\n",
    "\n",
    "#2. Training Batch Size\n",
    "train_batch_size = 20\n",
    "\n",
    "#3. Testing Batch Size\n",
    "test_batch_size = 20\n",
    "\n",
    "#4. Number of Epochs\n",
    "epochs = 50\n"
   ]
  },
  {
   "cell_type": "markdown",
   "metadata": {},
   "source": [
    "Create a directory if it does not exist\n",
    "you can use os.path.exists() to check whether it exists and using os.makedirs to create a directory."
   ]
  },
  {
   "cell_type": "markdown",
   "metadata": {},
   "source": [
    "-----\n",
    "###  Image processing\n",
    "Then, we define an image preprocessing object that our dataloader will use to preprocess our data. We use the pytorch API to preform the data processing.\n",
    "1. Use transforms.Compose()\n",
    "2. Use .RandomHorizontalFlip()\n",
    "3. You add any extra transforms you like.\n",
    "4. Create this transform for both the train set and test set. Note that for the test, we do not require any transform"
   ]
  },
  {
   "cell_type": "code",
   "execution_count": 4,
   "metadata": {},
   "outputs": [],
   "source": [
    "train_transform = transforms.Compose([transforms.RandomHorizontalFlip(), transforms.ToTensor()])\n",
    "test_transform = transforms.Compose([transforms.ToTensor()])"
   ]
  },
  {
   "cell_type": "markdown",
   "metadata": {},
   "source": [
    "-----\n",
    "### We then download and prepare the data with the transforms defined above:\n",
    "1. Use command torchvision.datasets.CIFAR10() with root, train, download and transform positional arguments.\n",
    "2. Use the same command to create both train split and test split.\n",
    "3. Use torch.utils.data.DataLoader() to create the data loader based on the data we have.\n",
    "3. Use this command for both the training split data loader and test split data loader"
   ]
  },
  {
   "cell_type": "code",
   "execution_count": 5,
   "metadata": {
    "scrolled": true
   },
   "outputs": [
    {
     "name": "stdout",
     "output_type": "stream",
     "text": [
      "Files already downloaded and verified\n",
      "Files already downloaded and verified\n"
     ]
    }
   ],
   "source": [
    "train_set = dset.CIFAR10(root='./data', train=True, download=True, transform=train_transform)\n",
    "train_loader = data.DataLoader(dataset=train_set, batch_size=train_batch_size, shuffle=True)\n",
    "test_set = dset.CIFAR10(root='./data', train=False, download=True, transform=test_transform)\n",
    "test_loader = data.DataLoader(dataset=test_set, batch_size=test_batch_size, shuffle=False)"
   ]
  },
  {
   "cell_type": "markdown",
   "metadata": {},
   "source": [
    "------\n",
    "### Inception Module with dimension reductions\n",
    "1. Create a python class called Inception which inherits nn.module\n",
    "\n",
    "2. Create a init function to init this python class\n",
    "    1. Require in_planes, kernel_1_x, kernel_3_in, kernel_3_x, kernel_5_in, kernel_5_x and pool_planes 7 arguments.\n",
    "    \n",
    "    2. There are 4 Sequential blocks: b1,b2,b3,b4\n",
    "    \n",
    "    3. b1 is a block that consists of 2D convolution, a 2D batch normalization layer and a ReLU activation function\n",
    "    \n",
    "    4. b2 is a block that consists of two 2D convolutions, two 2D batch normalization layers and two ReLU activation functions\n",
    "    \n",
    "    5. b3 is a block that consists of two 2D convolutions, two 2D batch normalization layers and two ReLU activation functions\n",
    "    \n",
    "    6. b4 is a block consists of a Maxpooling layer, a 2D convolution, a 2D batch normalization layer and a ReLU activation function\n",
    "    \n",
    "3. Create the forward function: the forward function will forward the input function though every block and return the concatenation of all the output."
   ]
  },
  {
   "cell_type": "code",
   "execution_count": 6,
   "metadata": {},
   "outputs": [],
   "source": [
    "# For 3×3 kernels, use padding=1 to keep the output size equal to the input size.\n",
    "# For 5×5 kernels, use padding=2 to keep the output size the same as the input size\n",
    "# Tensor: [batch size, channels, height, width]\n",
    "# Each self.b is a branch (small neural network) that takes in input vector and process it.\n",
    "\n",
    "class Inception(nn.Module): #Inheriting nn.Module's base class.\n",
    "    def __init__(self, in_planes, kernel_1_x, kernel_3_in, kernel_3_x, kernel_5_in, kernel_5_x, pool_planes):\n",
    "        super(Inception, self).__init__()\n",
    "        # 1x1 conv branch\n",
    "        self.b1 = nn.Sequential(\n",
    "            nn.Conv2d(in_planes, kernel_1_x, kernel_size=1), #2d convolution (1x1)\n",
    "            nn.BatchNorm2d(kernel_1_x), #2d batch normalization\n",
    "            nn.ReLU(True), #ReLU activation function\n",
    "        )\n",
    "\n",
    "        # 1x1 conv -> 3x3 conv branch\n",
    "        self.b2 = nn.Sequential(\n",
    "            nn.Conv2d(in_planes, kernel_3_in, kernel_size = 1), #2d convolution (1x1)\n",
    "            nn.BatchNorm2d(kernel_3_in),#2d batch normalization\n",
    "            nn.ReLU(inplace=True), #ReLU activation function\n",
    "            nn.Conv2d(kernel_3_in, kernel_3_x, kernel_size = 3, padding = 1), #2d convolution (3x3)\n",
    "            nn.BatchNorm2d(kernel_3_x), #2d batch normalization\n",
    "            nn.ReLU(inplace=True), #ReLU activation function\n",
    "        )\n",
    "        \n",
    "\n",
    "        # 1x1 conv -> 5x5 conv branch\n",
    "        self.b3 = nn.Sequential(\n",
    "            nn.Conv2d(in_planes, kernel_5_in, kernel_size = 1),#2d convolution (1x1)\n",
    "            nn.BatchNorm2d(kernel_5_in), #2d batch normalization\n",
    "            nn.ReLU(inplace = True), #ReLU activation function\n",
    "            nn.Conv2d(kernel_5_in, kernel_5_x, kernel_size = 5, padding = 2), #2d convolution (5x5)\n",
    "            nn.BatchNorm2d(kernel_5_x), #2d batch normalization\n",
    "            nn.ReLU(inplace = True), #ReLU activation function\n",
    "        )\n",
    "        \n",
    "        # 3x3 max pool -> 1x1 conv branch\n",
    "        self.b4 = nn.Sequential(\n",
    "            nn.MaxPool2d(kernel_size = 3, stride = 1, padding = 1), #Maxpooling (3x3)\n",
    "            nn.Conv2d(in_planes, pool_planes, kernel_size = 1), #2d convolution (1x1)\n",
    "            nn.BatchNorm2d(pool_planes),#2d batch normalization\n",
    "            nn.ReLU(inplace = True), #ReLU activation function\n",
    "        )\n",
    "\n",
    "    def forward(self, x): #This is called when InceptionBlock(x).\n",
    "        \n",
    "        #Each block computed in parallel.\n",
    "        b1_out = self.b1(x)\n",
    "        b2_out = self.b2(x)\n",
    "        b3_out = self.b3(x)\n",
    "        b4_out = self.b4(x)\n",
    "        \n",
    "        output = torch.cat([b1_out, b2_out, b3_out, b4_out], dim = 1) #Concatenate along dim = 1 (channel)\n",
    "        \n",
    "        return output"
   ]
  },
  {
   "cell_type": "markdown",
   "metadata": {},
   "source": [
    "-----\n",
    "### GoogLeNet Module: the structure is in the lab manual"
   ]
  },
  {
   "cell_type": "code",
   "execution_count": 7,
   "metadata": {},
   "outputs": [],
   "source": [
    "#first layer: Conv2d (3->192), 3*3: 3 input channels, 192 output channel (192 filters), 3x3 kernel\n",
    "class GoogLeNet(nn.Module):\n",
    "    def __init__(self):\n",
    "        super(GoogLeNet, self).__init__()\n",
    "        \n",
    "        self.conv = nn.Conv2d(3, 192, kernel_size = 3, padding = 1)\n",
    "        self.bn = nn.BatchNorm2d(192)\n",
    "        self.relu = nn.ReLU(inplace = True)\n",
    "        \n",
    "        #self, in_planes, kernel_1_x, kernel_3_in, kernel_3_x, kernel_5_in, kernel_5_x, pool_planes\n",
    "        self.inception1 = Inception(192, 64, 96, 128, 16, 32, 32) #branch1: 64 channels, branch2: 128 channels, branch3: 32 channels, branch4: 32 channels. After concatenation, 64+128+32+32 = 256 channels.\n",
    "        self.inception2 = Inception(256, 128, 128, 192, 32, 96, 64) #branch1: 128 channels, branch2: 192, branch3, 96, branch4: 64. After concatenation, 128+192+96+64 = 480 channels.\n",
    "        \n",
    "        self.maxpool1 = nn.MaxPool2d(kernel_size = 3, stride = 2, padding = 1) #since stride = 2, it is halving the input spatial dimensions.\n",
    "        \n",
    "        self.inception3 = Inception(480, 192, 96, 208, 16, 48, 64) #branch1: 192 channels, branch2: 208, branch3:48, branch4:64. After concatenation, 192+208+48+64 = 512\n",
    "        self.inception4 = Inception(512, 160, 112, 224, 24, 64, 64) #branch1: 160, branch2:224, bracnh3:64, branch4: 64. After concatenation, 160+224+64+64 = 512\n",
    "        self.inception5 = Inception(512, 128, 128, 256, 24, 64, 64) #branch1: 128, branch2: 256, branch3:64, branch4: 64. After concatenation, 128+256+64+64 = \n",
    "        self.inception6 = Inception(512, 112, 144, 288, 32, 64, 64) #branch1: 112, branch2:288, branch3:64, branch4: 64 After concatenation, 112+288+64+64 = 528\n",
    "        self.inception7 = Inception(528, 256, 160, 320, 32, 128, 128) #branch1: 256, branch2: 320, branch3: 128, branch4: 128. After concatenation 256+320+128+128  =\n",
    "        \n",
    "        self.maxpool2 = nn.MaxPool2d(kernel_size = 3, stride = 2, padding = 1)\n",
    "        \n",
    "        self.inception8 = Inception(832, 256, 160, 320, 32, 128, 128) #branch1: 256, branch2:320, branch3:128, branch4:128. After concatenation: 256+320+128+128 = 832\n",
    "        self.inception9 = Inception(832, 384, 192, 384, 48, 128, 128) #branch1: 384, branch2:384, branch3:128, branch4: 128. After concatenation: 384+348+128+128 = 1024\n",
    "        \n",
    "        self.avgpool1 = nn.AdaptiveAvgPool2d((1,1)) # [B, 1024, H, W] => [B, 1024, 1, 1]\n",
    "        self.flatten = nn.Flatten(start_dim = 1) # [B, 1024, 1, 1] => [B, 1024]\n",
    "        self.fc = nn.Linear(1024, 10)\n",
    "        \n",
    "    \n",
    "    def forward(self, x):\n",
    "        \n",
    "        #Passing input x in order of the architecture.\n",
    "        x = self.conv(x)\n",
    "        x = self.bn(x)\n",
    "        x = self.relu(x)\n",
    "        \n",
    "        x = self.inception1(x)\n",
    "        x = self.inception2(x)\n",
    "        \n",
    "        x = self.maxpool1(x)\n",
    "        \n",
    "        x = self.inception3(x)\n",
    "        x = self.inception4(x)\n",
    "        x = self.inception5(x)\n",
    "        x = self.inception6(x)\n",
    "        x = self.inception7(x)\n",
    "        \n",
    "        x = self.maxpool2(x)\n",
    "        \n",
    "        x = self.inception8(x)\n",
    "        x = self.inception9(x)\n",
    "        \n",
    "        x = self.avgpool1(x)\n",
    "        x = self.flatten(x)\n",
    "        x = self.fc(x)\n",
    "        \n",
    "        return x"
   ]
  },
  {
   "cell_type": "markdown",
   "metadata": {},
   "source": [
    "### Next, we create the network and send it to the target device"
   ]
  },
  {
   "cell_type": "code",
   "execution_count": 8,
   "metadata": {},
   "outputs": [],
   "source": [
    "model = GoogLeNet()\n",
    "model = model.to(device) # Need to have model and inputs in the same device"
   ]
  },
  {
   "cell_type": "markdown",
   "metadata": {},
   "source": [
    "### Finally, we create:\n",
    " 1. An optimizer  (we use adam optimzer here)\n",
    " 2. A Criterion (CrossEntropy) function\n",
    " 3. A Scheduler which decays the learning rate of each parameter group by gamma once the number of epoch reaches one of the milestones."
   ]
  },
  {
   "cell_type": "code",
   "execution_count": 9,
   "metadata": {},
   "outputs": [],
   "source": [
    "#Adam Optimizer in pytorch\n",
    "optimizer = torch.optim.Adam(model.parameters(), lr = learning_rate)"
   ]
  },
  {
   "cell_type": "code",
   "execution_count": 10,
   "metadata": {},
   "outputs": [],
   "source": [
    "#Criterion = loss function in pytorch\n",
    "criterion = nn.CrossEntropyLoss()"
   ]
  },
  {
   "cell_type": "code",
   "execution_count": 11,
   "metadata": {},
   "outputs": [],
   "source": [
    "#Scheduler. The scheduler that matches the description is MultiStepLR\n",
    "\n",
    "scheduler = torch.optim.lr_scheduler.MultiStepLR(\n",
    "    optimizer,\n",
    "    milestones = [10, 20, 40], #Update the learning rate when epochs reach this milestone.\n",
    "    gamma = 0.1,\n",
    ")\n"
   ]
  },
  {
   "cell_type": "markdown",
   "metadata": {},
   "source": [
    "-----\n",
    "##  Training\n",
    "Then, we are going to train our Network\n",
    "\n",
    "1. Set our network to the training mode.\n",
    "2. Initialize the train loss, total data size, and number corrected predictions. \n",
    "3. For each data in the training split\n",
    "    1. Put the data to the correct devices using .to()\n",
    "    2. Reset the gradient of the optimzier.\n",
    "    3. Feed the data forward to the google net\n",
    "    4. Use the criterion function to compute the loss term\n",
    "    5. Backpropagate the loss\n",
    "    6. Update the network parameters using the optimizier\n",
    "    7. Accumulate the training loss\n",
    "    8. Find the prediction. hint: using torch.max()\n",
    "    9. Increment the total_data size\n",
    "    10. Increment the corrected prediction\n",
    "    11. Print log\n",
    "    \n",
    "-----\n",
    "##  Testing\n",
    "Then, we are going to test our module\n",
    "\n",
    "1. Set our network to the test model.\n",
    "2. Initialize the test loss, total data size, and number corrected predictions. \n",
    "3. For each data in the testing split, we warp it using torch.no_grad()\n",
    "    1. Put the data to the correct devices using .to()\n",
    "    2. Feed the data forward to the google net\n",
    "    3. Use the criterion function to compute the loss term\n",
    "    4. Accumulate the testing loss\n",
    "    5. Find the prediciton. hint: using torch.max()\n",
    "    6. Increment the data size\n",
    "    7. Increment the corrected prediction\n",
    "    8. Print log\n",
    "\n",
    "-----\n",
    "##  Epochs:\n",
    "For each epoch:\n",
    "1. Train the model\n",
    "2. Step the scheduler\n",
    "3. Test our model\n",
    "4. Update the accuracies\n",
    "5. Save the module at the end and print the accuracy"
   ]
  },
  {
   "cell_type": "code",
   "execution_count": 12,
   "metadata": {
    "scrolled": true
   },
   "outputs": [
    {
     "name": "stdout",
     "output_type": "stream",
     "text": [
      "Epoch: 0 | Training loss: 1.664 | Training accuracy: 0.381 | Testing loss: 1.255 | Testing accuracy: 0.537\n",
      "Epoch: 1 | Training loss: 1.053 | Training accuracy: 0.624 | Testing loss: 0.938 | Testing accuracy: 0.670\n",
      "Epoch: 2 | Training loss: 0.778 | Training accuracy: 0.730 | Testing loss: 0.857 | Testing accuracy: 0.706\n",
      "Epoch: 3 | Training loss: 0.641 | Training accuracy: 0.780 | Testing loss: 0.620 | Testing accuracy: 0.786\n",
      "Epoch: 4 | Training loss: 0.554 | Training accuracy: 0.809 | Testing loss: 0.570 | Testing accuracy: 0.804\n",
      "Epoch: 5 | Training loss: 0.491 | Training accuracy: 0.830 | Testing loss: 0.590 | Testing accuracy: 0.803\n",
      "Epoch: 6 | Training loss: 0.434 | Training accuracy: 0.851 | Testing loss: 0.559 | Testing accuracy: 0.812\n",
      "Epoch: 7 | Training loss: 0.390 | Training accuracy: 0.866 | Testing loss: 0.504 | Testing accuracy: 0.828\n",
      "Epoch: 8 | Training loss: 0.360 | Training accuracy: 0.874 | Testing loss: 0.477 | Testing accuracy: 0.842\n",
      "Epoch: 9 | Training loss: 0.322 | Training accuracy: 0.888 | Testing loss: 0.417 | Testing accuracy: 0.861\n",
      "Epoch: 10 | Training loss: 0.203 | Training accuracy: 0.930 | Testing loss: 0.344 | Testing accuracy: 0.886\n",
      "Epoch: 11 | Training loss: 0.167 | Training accuracy: 0.943 | Testing loss: 0.342 | Testing accuracy: 0.892\n",
      "Epoch: 12 | Training loss: 0.149 | Training accuracy: 0.950 | Testing loss: 0.345 | Testing accuracy: 0.891\n",
      "Epoch: 13 | Training loss: 0.134 | Training accuracy: 0.955 | Testing loss: 0.343 | Testing accuracy: 0.892\n",
      "Epoch: 14 | Training loss: 0.122 | Training accuracy: 0.959 | Testing loss: 0.349 | Testing accuracy: 0.893\n",
      "Epoch: 15 | Training loss: 0.112 | Training accuracy: 0.962 | Testing loss: 0.355 | Testing accuracy: 0.890\n",
      "Epoch: 16 | Training loss: 0.101 | Training accuracy: 0.966 | Testing loss: 0.364 | Testing accuracy: 0.891\n",
      "Epoch: 17 | Training loss: 0.090 | Training accuracy: 0.970 | Testing loss: 0.369 | Testing accuracy: 0.892\n",
      "Epoch: 18 | Training loss: 0.082 | Training accuracy: 0.973 | Testing loss: 0.378 | Testing accuracy: 0.891\n",
      "Epoch: 19 | Training loss: 0.075 | Training accuracy: 0.975 | Testing loss: 0.387 | Testing accuracy: 0.890\n",
      "Epoch: 20 | Training loss: 0.062 | Training accuracy: 0.980 | Testing loss: 0.385 | Testing accuracy: 0.892\n",
      "Epoch: 21 | Training loss: 0.058 | Training accuracy: 0.981 | Testing loss: 0.378 | Testing accuracy: 0.893\n",
      "Epoch: 22 | Training loss: 0.056 | Training accuracy: 0.983 | Testing loss: 0.386 | Testing accuracy: 0.893\n",
      "Epoch: 23 | Training loss: 0.056 | Training accuracy: 0.982 | Testing loss: 0.384 | Testing accuracy: 0.891\n",
      "Epoch: 24 | Training loss: 0.055 | Training accuracy: 0.983 | Testing loss: 0.388 | Testing accuracy: 0.892\n",
      "Epoch: 25 | Training loss: 0.055 | Training accuracy: 0.982 | Testing loss: 0.391 | Testing accuracy: 0.892\n",
      "Epoch: 26 | Training loss: 0.054 | Training accuracy: 0.984 | Testing loss: 0.387 | Testing accuracy: 0.893\n",
      "Epoch: 27 | Training loss: 0.052 | Training accuracy: 0.984 | Testing loss: 0.392 | Testing accuracy: 0.893\n",
      "Epoch: 28 | Training loss: 0.050 | Training accuracy: 0.984 | Testing loss: 0.388 | Testing accuracy: 0.893\n",
      "Epoch: 29 | Training loss: 0.049 | Training accuracy: 0.985 | Testing loss: 0.400 | Testing accuracy: 0.891\n",
      "Epoch: 30 | Training loss: 0.050 | Training accuracy: 0.984 | Testing loss: 0.393 | Testing accuracy: 0.892\n",
      "Epoch: 31 | Training loss: 0.049 | Training accuracy: 0.984 | Testing loss: 0.395 | Testing accuracy: 0.892\n",
      "Epoch: 32 | Training loss: 0.048 | Training accuracy: 0.985 | Testing loss: 0.397 | Testing accuracy: 0.890\n",
      "Epoch: 33 | Training loss: 0.046 | Training accuracy: 0.986 | Testing loss: 0.400 | Testing accuracy: 0.891\n",
      "Epoch: 34 | Training loss: 0.046 | Training accuracy: 0.985 | Testing loss: 0.401 | Testing accuracy: 0.891\n",
      "Epoch: 35 | Training loss: 0.045 | Training accuracy: 0.986 | Testing loss: 0.398 | Testing accuracy: 0.891\n",
      "Epoch: 36 | Training loss: 0.044 | Training accuracy: 0.986 | Testing loss: 0.406 | Testing accuracy: 0.893\n",
      "Epoch: 37 | Training loss: 0.043 | Training accuracy: 0.987 | Testing loss: 0.401 | Testing accuracy: 0.891\n",
      "Epoch: 38 | Training loss: 0.044 | Training accuracy: 0.986 | Testing loss: 0.405 | Testing accuracy: 0.893\n",
      "Epoch: 39 | Training loss: 0.042 | Training accuracy: 0.987 | Testing loss: 0.409 | Testing accuracy: 0.892\n",
      "Epoch: 40 | Training loss: 0.041 | Training accuracy: 0.988 | Testing loss: 0.413 | Testing accuracy: 0.892\n",
      "Epoch: 41 | Training loss: 0.041 | Training accuracy: 0.987 | Testing loss: 0.415 | Testing accuracy: 0.891\n",
      "Epoch: 42 | Training loss: 0.041 | Training accuracy: 0.987 | Testing loss: 0.410 | Testing accuracy: 0.892\n",
      "Epoch: 43 | Training loss: 0.040 | Training accuracy: 0.988 | Testing loss: 0.409 | Testing accuracy: 0.891\n",
      "Epoch: 44 | Training loss: 0.041 | Training accuracy: 0.988 | Testing loss: 0.405 | Testing accuracy: 0.892\n",
      "Epoch: 45 | Training loss: 0.040 | Training accuracy: 0.989 | Testing loss: 0.413 | Testing accuracy: 0.891\n",
      "Epoch: 46 | Training loss: 0.041 | Training accuracy: 0.988 | Testing loss: 0.415 | Testing accuracy: 0.891\n",
      "Epoch: 47 | Training loss: 0.040 | Training accuracy: 0.988 | Testing loss: 0.411 | Testing accuracy: 0.891\n",
      "Epoch: 48 | Training loss: 0.040 | Training accuracy: 0.988 | Testing loss: 0.409 | Testing accuracy: 0.893\n",
      "Epoch: 49 | Training loss: 0.040 | Training accuracy: 0.988 | Testing loss: 0.411 | Testing accuracy: 0.893\n"
     ]
    }
   ],
   "source": [
    "test_losses = [] #Array to store test losses for loss plot.\n",
    "test_accuracies = [] #Array to store test accuracies for accuracy plot.\n",
    "\n",
    "#1. Train the model\n",
    "for epoch in range(epochs): #For each epoch\n",
    "    model.train() #Set the network into training mode\n",
    "\n",
    "    train_loss = 0.0 #Initialize the train loss, total data size, and number of correct predictions\n",
    "    total_data = 0\n",
    "    correct_preds = 0\n",
    "    \n",
    "    for batch in train_loader: #Looping through each training data split\n",
    "        inputs, labels = batch\n",
    "        \n",
    "        inputs = inputs.to(device) #Put the data into the correct device (from CPU to GPU)\n",
    "        labels = labels.to(device)\n",
    "\n",
    "        optimizer.zero_grad() #Reset the gradients of the optimizer (pytorch automatically accumulates gradients, so reset before backprop)\n",
    "\n",
    "        predictions = model(inputs) #Feed the data forward to the model (forward pass)\n",
    "\n",
    "        loss = criterion(predictions, labels) #Use the criterion function to compute the loss\n",
    "\n",
    "        loss.backward() #Backpropagate the loss (backward pass to calculate gradients to optimize the parameters)\n",
    "        \n",
    "        optimizer.step() #Update the network parameters using the optimizer\n",
    "\n",
    "        train_loss += loss.item() * inputs.size(0) #Accumulate the training loss. Batch loss = average loss * # of inputs\n",
    "\n",
    "        _, predicted_class = torch.max(predictions, dim = 1) #Find the prediction. Getting the max for each sample.\n",
    "        \n",
    "        total_data += labels.size(0) #Increment the total data size and correct predictions\n",
    "        correct_preds += (predicted_class == labels).sum().item()\n",
    "    \n",
    "    \n",
    "    train_avg_loss = train_loss / total_data #Calculate avg_loss\n",
    "    train_accuracy = correct_preds / total_data #Calculate accuracy\n",
    "    \n",
    "    #Step 2. Step the scheduler\n",
    "    scheduler.step()\n",
    "    \n",
    "    #Step 3. Test the model\n",
    "    model.eval()\n",
    "    test_loss = 0.0\n",
    "    test_total = 0\n",
    "    test_correct = 0\n",
    "    #For each data in the testing split, we warp it using torch.no_grad()\n",
    "\n",
    "    with torch.no_grad(): #Make sure gradient is not accumulated while evaluating the model.\n",
    "        \n",
    "        for inputs, labels in test_loader: #Looping through each training data split.\n",
    "            inputs = inputs.to(device) #Put the data to the correct device (CPU to GPU).\n",
    "            labels = labels.to(device)\n",
    "            \n",
    "            predictions = model(inputs) #Make prediction by passing input to model.\n",
    "            \n",
    "            loss = criterion(predictions, labels) #Use the criterion function to compute the loss term.\n",
    "            \n",
    "            test_loss += loss.item() * inputs.size(0) #Accumulate the testing loss.\n",
    "            \n",
    "            _, predicted_class = torch.max(predictions, dim = 1) #Find the prediction.\n",
    "            \n",
    "            test_total += labels.size(0) #Increment total amount of data.\n",
    "            test_correct += (predicted_class == labels).sum().item() #Increment the corrected prediction.\n",
    "    \n",
    "    #Step 4. Update the accuracies\n",
    "    test_avg_loss = test_loss / test_total\n",
    "    test_losses.append(test_avg_loss)\n",
    "    test_accuracy = test_correct / test_total\n",
    "    test_accuracies.append(test_accuracy)\n",
    "    \n",
    "    #Step 5. Save the module at the end and print the accuracy\n",
    "    torch.save(model.state_dict(), 'model.pth')\n",
    "    \n",
    "    #Print training and test log.\n",
    "    print(f\"Epoch: {epoch} | Training loss: {train_avg_loss:.3f} | Training accuracy: {train_accuracy:.3f} | Testing loss: {test_avg_loss:.3f} | Testing accuracy: {test_accuracy:.3f}\")"
   ]
  },
  {
   "cell_type": "code",
   "execution_count": 14,
   "metadata": {},
   "outputs": [
    {
     "data": {
      "image/png": "[encoded data removed]",
      "text/plain": [
       "<Figure size 1000x400 with 2 Axes>"
      ]
     },
     "metadata": {},
     "output_type": "display_data"
    }
   ],
   "source": [
    "import matplotlib.pyplot as plt\n",
    "\n",
    "epochs_list = np.arange(start = 1, stop = epochs + 1) #Creating a list of epochs\n",
    "\n",
    "fig, (ax1, ax2) = plt.subplots(1,2, figsize = (10,4)) #Create subplots of row = 1, column = 2\n",
    "\n",
    "ax1.plot(epochs_list, test_losses) #Plot Epochs vs Testing Losses\n",
    "ax1.set_title(\"Testing Losses over Epochs\")\n",
    "\n",
    "ax2.plot(epochs_list, test_accuracies) #Plot Epochs vs Testing Accuracies\n",
    "ax2.set_title(\"Testing Accuracies over Epochs\")\n",
    "\n",
    "plt.tight_layout()\n",
    "plt.show()"
   ]
  }
 ],
 "metadata": {
  "kernelspec": {
   "display_name": "Python 3 (ipykernel)",
   "language": "python",
   "name": "python3"
  },
  "language_info": {
   "codemirror_mode": {
    "name": "ipython",
    "version": 3
   },
   "file_extension": ".py",
   "mimetype": "text/x-python",
   "name": "python",
   "nbconvert_exporter": "python",
   "pygments_lexer": "ipython3",
   "version": "3.11.5"
  }
 },
 "nbformat": 4,
 "nbformat_minor": 2
}
